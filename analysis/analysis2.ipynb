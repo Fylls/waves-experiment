{
 "cells": [
  {
   "cell_type": "markdown",
   "metadata": {},
   "source": [
    "# Setup"
   ]
  },
  {
   "cell_type": "code",
   "execution_count": 1,
   "metadata": {},
   "outputs": [
    {
     "name": "stdout",
     "output_type": "stream",
     "text": [
      "Setup Complete\n"
     ]
    }
   ],
   "source": [
    "import numpy as np\n",
    "import pandas as pd\n",
    "\n",
    "pd.set_option('display.max_colwidth', None)\n",
    "\n",
    "def centered(df):\n",
    "    return df.style.set_table_styles([\n",
    "        {\"selector\": \"th\", \"props\": [(\"text-align\", \"center\")]},\n",
    "        {\"selector\": \"td\", \"props\": [(\"text-align\", \"center\")]}\n",
    "    ])\n",
    "\n",
    "print(\"Setup Complete\")"
   ]
  },
  {
   "cell_type": "markdown",
   "metadata": {},
   "source": [
    "# Interference"
   ]
  },
  {
   "cell_type": "code",
   "execution_count": 2,
   "metadata": {},
   "outputs": [
    {
     "name": "stdout",
     "output_type": "stream",
     "text": [
      "\n",
      "Lasers'wavelength has a mean value of 6.679687499999999e-07 meters with a standard error of 2.745513029813374e-08\n",
      "\n"
     ]
    },
    {
     "data": {
      "text/html": [
       "<div>\n",
       "<style scoped>\n",
       "    .dataframe tbody tr th:only-of-type {\n",
       "        vertical-align: middle;\n",
       "    }\n",
       "\n",
       "    .dataframe tbody tr th {\n",
       "        vertical-align: top;\n",
       "    }\n",
       "\n",
       "    .dataframe thead th {\n",
       "        text-align: right;\n",
       "    }\n",
       "</style>\n",
       "<table border=\"1\" class=\"dataframe\">\n",
       "  <thead>\n",
       "    <tr style=\"text-align: right;\">\n",
       "      <th></th>\n",
       "      <th>L [m]</th>\n",
       "      <th>d [m]</th>\n",
       "      <th>Δx [m]</th>\n",
       "      <th>λ [m]</th>\n",
       "    </tr>\n",
       "  </thead>\n",
       "  <tbody>\n",
       "    <tr>\n",
       "      <th>0</th>\n",
       "      <td>0.8</td>\n",
       "      <td>0.00050</td>\n",
       "      <td>0.00109</td>\n",
       "      <td>6.812500e-07</td>\n",
       "    </tr>\n",
       "    <tr>\n",
       "      <th>1</th>\n",
       "      <td>0.8</td>\n",
       "      <td>0.00025</td>\n",
       "      <td>0.00199</td>\n",
       "      <td>6.218750e-07</td>\n",
       "    </tr>\n",
       "    <tr>\n",
       "      <th>2</th>\n",
       "      <td>0.8</td>\n",
       "      <td>0.00050</td>\n",
       "      <td>0.00111</td>\n",
       "      <td>6.937500e-07</td>\n",
       "    </tr>\n",
       "    <tr>\n",
       "      <th>3</th>\n",
       "      <td>0.8</td>\n",
       "      <td>0.00025</td>\n",
       "      <td>0.00216</td>\n",
       "      <td>6.750000e-07</td>\n",
       "    </tr>\n",
       "  </tbody>\n",
       "</table>\n",
       "</div>"
      ],
      "text/plain": [
       "   L [m]    d [m]   Δx [m]         λ [m]\n",
       "0    0.8  0.00050  0.00109  6.812500e-07\n",
       "1    0.8  0.00025  0.00199  6.218750e-07\n",
       "2    0.8  0.00050  0.00111  6.937500e-07\n",
       "3    0.8  0.00025  0.00216  6.750000e-07"
      ]
     },
     "metadata": {},
     "output_type": "display_data"
    }
   ],
   "source": [
    "l = 0.8\n",
    "D = np.array([ 0.5, 0.25, 0.5, 0.25 ]) / 1000\n",
    "dx = np.array([ 0.109, 0.199, 0.111, 0.216 ]) / 100\n",
    "\n",
    "wl = (dx * D) / l\n",
    "\n",
    "print(f\"\\nLasers'wavelength has a mean value of {np.mean(wl)} meters with a standard error of {np.std(wl)}\\n\")\n",
    "\n",
    "results = pd.DataFrame({\n",
    "    \"L [m]\": l,\n",
    "    \"d [m]\": D,\n",
    "    \"Δx [m]\": dx,\n",
    "    \"λ [m]\": wl,\n",
    "})\n",
    "\n",
    "display(results) "
   ]
  },
  {
   "cell_type": "markdown",
   "metadata": {},
   "source": [
    "# Diffraction"
   ]
  },
  {
   "cell_type": "code",
   "execution_count": 3,
   "metadata": {},
   "outputs": [
    {
     "name": "stdout",
     "output_type": "stream",
     "text": [
      "\n",
      "Lasers'wavelength has a mean value of 6.745e-07 meters with a standard error of 7.407766195014523e-09\n",
      "\n"
     ]
    },
    {
     "data": {
      "text/html": [
       "<div>\n",
       "<style scoped>\n",
       "    .dataframe tbody tr th:only-of-type {\n",
       "        vertical-align: middle;\n",
       "    }\n",
       "\n",
       "    .dataframe tbody tr th {\n",
       "        vertical-align: top;\n",
       "    }\n",
       "\n",
       "    .dataframe thead th {\n",
       "        text-align: right;\n",
       "    }\n",
       "</style>\n",
       "<table border=\"1\" class=\"dataframe\">\n",
       "  <thead>\n",
       "    <tr style=\"text-align: right;\">\n",
       "      <th></th>\n",
       "      <th>L [m]</th>\n",
       "      <th>a [m]</th>\n",
       "      <th>Δx [m]</th>\n",
       "      <th>λ [m]</th>\n",
       "    </tr>\n",
       "  </thead>\n",
       "  <tbody>\n",
       "    <tr>\n",
       "      <th>0</th>\n",
       "      <td>0.8</td>\n",
       "      <td>0.00016</td>\n",
       "      <td>0.00343</td>\n",
       "      <td>6.860000e-07</td>\n",
       "    </tr>\n",
       "    <tr>\n",
       "      <th>1</th>\n",
       "      <td>0.8</td>\n",
       "      <td>0.00008</td>\n",
       "      <td>0.00676</td>\n",
       "      <td>6.760000e-07</td>\n",
       "    </tr>\n",
       "    <tr>\n",
       "      <th>2</th>\n",
       "      <td>0.8</td>\n",
       "      <td>0.00004</td>\n",
       "      <td>0.01335</td>\n",
       "      <td>6.675000e-07</td>\n",
       "    </tr>\n",
       "    <tr>\n",
       "      <th>3</th>\n",
       "      <td>0.8</td>\n",
       "      <td>0.00002</td>\n",
       "      <td>0.02674</td>\n",
       "      <td>6.685000e-07</td>\n",
       "    </tr>\n",
       "  </tbody>\n",
       "</table>\n",
       "</div>"
      ],
      "text/plain": [
       "   L [m]    a [m]   Δx [m]         λ [m]\n",
       "0    0.8  0.00016  0.00343  6.860000e-07\n",
       "1    0.8  0.00008  0.00676  6.760000e-07\n",
       "2    0.8  0.00004  0.01335  6.675000e-07\n",
       "3    0.8  0.00002  0.02674  6.685000e-07"
      ]
     },
     "metadata": {},
     "output_type": "display_data"
    }
   ],
   "source": [
    "l = 0.8\n",
    "a = np.array([ 0.16, 0.08, 0.04, 0.02 ]) / 1000\n",
    "dx = np.array([ 0.343, 0.676, 1.335, 2.674 ]) / 100\n",
    "\n",
    "wl = dx * a / l\n",
    "\n",
    "print(f\"\\nLasers'wavelength has a mean value of {np.mean(wl)} meters with a standard error of {np.std(wl)}\\n\")\n",
    "\n",
    "results = pd.DataFrame({\n",
    "    \"L [m]\": l,\n",
    "    \"a [m]\": a,\n",
    "    \"Δx [m]\": dx,\n",
    "    \"λ [m]\": wl,\n",
    "})\n",
    "\n",
    "display(results) "
   ]
  }
 ],
 "metadata": {
  "interpreter": {
   "hash": "ca98eca091f665d4b073781a8092ef1e4b0b5ce5ebfcf0d3c7ac3a44a4e96cf6"
  },
  "kernelspec": {
   "display_name": "Python 3.9.6 64-bit",
   "language": "python",
   "name": "python3"
  },
  "language_info": {
   "codemirror_mode": {
    "name": "ipython",
    "version": 3
   },
   "file_extension": ".py",
   "mimetype": "text/x-python",
   "name": "python",
   "nbconvert_exporter": "python",
   "pygments_lexer": "ipython3",
   "version": "3.9.6"
  },
  "orig_nbformat": 4
 },
 "nbformat": 4,
 "nbformat_minor": 2
}
