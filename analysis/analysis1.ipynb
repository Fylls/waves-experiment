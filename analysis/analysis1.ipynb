{
 "cells": [
  {
   "cell_type": "markdown",
   "metadata": {},
   "source": [
    "# Setup"
   ]
  },
  {
   "cell_type": "code",
   "execution_count": 1,
   "metadata": {},
   "outputs": [
    {
     "name": "stdout",
     "output_type": "stream",
     "text": [
      "Setup Complete\n"
     ]
    }
   ],
   "source": [
    "from scipy.constants import *\n",
    "import numpy as np\n",
    "import pandas as pd\n",
    "import seaborn as sns\n",
    "\n",
    "def centered(df):\n",
    "    return df.style.set_table_styles([\n",
    "        {\"selector\": \"th\", \"props\": [(\"text-align\", \"center\")]},\n",
    "        {\"selector\": \"td\", \"props\": [(\"text-align\", \"center\")]}])\n",
    "\n",
    "print(\"Setup Complete\")"
   ]
  },
  {
   "cell_type": "markdown",
   "metadata": {},
   "source": [
    "# Apparatus"
   ]
  },
  {
   "cell_type": "code",
   "execution_count": 2,
   "metadata": {},
   "outputs": [],
   "source": [
    "# Radius of the first spire\n",
    "# Measured in meters [m]\n",
    "r1 = 0.105\n",
    "\n",
    "# Windings of the first spire\n",
    "n1 = 200\n",
    "\n",
    "# Radius of the second spire\n",
    "# Measured in meters [m]\n",
    "r2 = 0.015\n",
    "\n",
    "# Windings of the second spire\n",
    "n2 = 2000"
   ]
  },
  {
   "cell_type": "markdown",
   "metadata": {},
   "source": [
    "# Data"
   ]
  },
  {
   "cell_type": "code",
   "execution_count": 3,
   "metadata": {},
   "outputs": [],
   "source": [
    "# Frequency of the AC in the first circuit\n",
    "# Measured in Hertz [Hz]\n",
    "f = np.array([ 10, 20, 30, 40 ])\n",
    "\n",
    "# Max current in the first circuit\n",
    "# Measured in Amperes [A]\n",
    "# Multiplied by a coverting factor (volt to ampere)\n",
    "I1 = np.array([ 2.803, 2.709, 2.593, 2.453 ]) * 0.0506\n",
    "I2 = np.array([ 5.748, 5.561, 5.280, 4.953 ]) * 0.0506\n",
    "\n",
    "# Max induced voltage in the second circuit (EMF)\n",
    "# Measured in Volts [V]\n",
    "v1 = np.array([ 0.017, 0.028, 0.041, 0.055 ])\n",
    "v2 = np.array([ 0.034, 0.062, 0.081, 0.112 ])"
   ]
  },
  {
   "cell_type": "markdown",
   "metadata": {},
   "source": [
    "# Analysis"
   ]
  },
  {
   "cell_type": "code",
   "execution_count": 4,
   "metadata": {},
   "outputs": [],
   "source": [
    "def analysis (i_max, v_ind):\n",
    "\n",
    "    # Theoretical mutual inductance\n",
    "    # Measured in Henrys [H]\n",
    "    M_th = ( mu_0 * pi * n1 * n2 * r2**2 ) / (2 * r1)\n",
    "\n",
    "    # Experimental mutual inductance\n",
    "    # Measured in Henrys [H]\n",
    "    M_exp = v_ind / (2 * pi * f * i_max)\n",
    "\n",
    "    # Max voltage in the first circuit\n",
    "    # Measured in Volts [V]\n",
    "    v_max = i_max / 0.0506\n",
    "\n",
    "    # Display mutual inductance\n",
    "    print(f\"\\nMutual inductance has a mean value of {np.mean(M_exp)} henry with a standard error of {np.std(M_exp)}\\n\")\n",
    "\n",
    "    # Create dataframe\n",
    "    results = pd.DataFrame({\n",
    "        \"frequency [Hz]\": f,\n",
    "        \"current max [A]\": i_max,\n",
    "        \"voltage max\": v_max,\n",
    "        \"voltage induced [V]\": v_ind,\n",
    "        \"inductance th [H]\": M_th,\n",
    "        \"inductance exp [H]\": M_exp,\n",
    "        \"inductance error [H]\": M_th - M_exp,\n",
    "    })\n",
    "\n",
    "    display(centered(results)) "
   ]
  },
  {
   "cell_type": "code",
   "execution_count": 5,
   "metadata": {},
   "outputs": [
    {
     "name": "stdout",
     "output_type": "stream",
     "text": [
      "\n",
      "Mutual inductance has a mean value of 0.0017385059487575352 henry with a standard error of 0.00011010583720659836\n",
      "\n"
     ]
    },
    {
     "data": {
      "text/html": [
       "<style type=\"text/css\">\n",
       "#T_867ad_ th {\n",
       "  text-align: center;\n",
       "}\n",
       "#T_867ad_ td {\n",
       "  text-align: center;\n",
       "}\n",
       "</style>\n",
       "<table id=\"T_867ad_\">\n",
       "  <thead>\n",
       "    <tr>\n",
       "      <th class=\"blank level0\" >&nbsp;</th>\n",
       "      <th class=\"col_heading level0 col0\" >frequency [Hz]</th>\n",
       "      <th class=\"col_heading level0 col1\" >current max [A]</th>\n",
       "      <th class=\"col_heading level0 col2\" >voltage max</th>\n",
       "      <th class=\"col_heading level0 col3\" >voltage induced [V]</th>\n",
       "      <th class=\"col_heading level0 col4\" >inductance th [H]</th>\n",
       "      <th class=\"col_heading level0 col5\" >inductance exp [H]</th>\n",
       "      <th class=\"col_heading level0 col6\" >inductance error [H]</th>\n",
       "    </tr>\n",
       "  </thead>\n",
       "  <tbody>\n",
       "    <tr>\n",
       "      <th id=\"T_867ad_level0_row0\" class=\"row_heading level0 row0\" >0</th>\n",
       "      <td id=\"T_867ad_row0_col0\" class=\"data row0 col0\" >10</td>\n",
       "      <td id=\"T_867ad_row0_col1\" class=\"data row0 col1\" >0.141832</td>\n",
       "      <td id=\"T_867ad_row0_col2\" class=\"data row0 col2\" >2.803000</td>\n",
       "      <td id=\"T_867ad_row0_col3\" class=\"data row0 col3\" >0.017000</td>\n",
       "      <td id=\"T_867ad_row0_col4\" class=\"data row0 col4\" >0.001692</td>\n",
       "      <td id=\"T_867ad_row0_col5\" class=\"data row0 col5\" >0.001908</td>\n",
       "      <td id=\"T_867ad_row0_col6\" class=\"data row0 col6\" >-0.000216</td>\n",
       "    </tr>\n",
       "    <tr>\n",
       "      <th id=\"T_867ad_level0_row1\" class=\"row_heading level0 row1\" >1</th>\n",
       "      <td id=\"T_867ad_row1_col0\" class=\"data row1 col0\" >20</td>\n",
       "      <td id=\"T_867ad_row1_col1\" class=\"data row1 col1\" >0.137075</td>\n",
       "      <td id=\"T_867ad_row1_col2\" class=\"data row1 col2\" >2.709000</td>\n",
       "      <td id=\"T_867ad_row1_col3\" class=\"data row1 col3\" >0.028000</td>\n",
       "      <td id=\"T_867ad_row1_col4\" class=\"data row1 col4\" >0.001692</td>\n",
       "      <td id=\"T_867ad_row1_col5\" class=\"data row1 col5\" >0.001626</td>\n",
       "      <td id=\"T_867ad_row1_col6\" class=\"data row1 col6\" >0.000066</td>\n",
       "    </tr>\n",
       "    <tr>\n",
       "      <th id=\"T_867ad_level0_row2\" class=\"row_heading level0 row2\" >2</th>\n",
       "      <td id=\"T_867ad_row2_col0\" class=\"data row2 col0\" >30</td>\n",
       "      <td id=\"T_867ad_row2_col1\" class=\"data row2 col1\" >0.131206</td>\n",
       "      <td id=\"T_867ad_row2_col2\" class=\"data row2 col2\" >2.593000</td>\n",
       "      <td id=\"T_867ad_row2_col3\" class=\"data row2 col3\" >0.041000</td>\n",
       "      <td id=\"T_867ad_row2_col4\" class=\"data row2 col4\" >0.001692</td>\n",
       "      <td id=\"T_867ad_row2_col5\" class=\"data row2 col5\" >0.001658</td>\n",
       "      <td id=\"T_867ad_row2_col6\" class=\"data row2 col6\" >0.000034</td>\n",
       "    </tr>\n",
       "    <tr>\n",
       "      <th id=\"T_867ad_level0_row3\" class=\"row_heading level0 row3\" >3</th>\n",
       "      <td id=\"T_867ad_row3_col0\" class=\"data row3 col0\" >40</td>\n",
       "      <td id=\"T_867ad_row3_col1\" class=\"data row3 col1\" >0.124122</td>\n",
       "      <td id=\"T_867ad_row3_col2\" class=\"data row3 col2\" >2.453000</td>\n",
       "      <td id=\"T_867ad_row3_col3\" class=\"data row3 col3\" >0.055000</td>\n",
       "      <td id=\"T_867ad_row3_col4\" class=\"data row3 col4\" >0.001692</td>\n",
       "      <td id=\"T_867ad_row3_col5\" class=\"data row3 col5\" >0.001763</td>\n",
       "      <td id=\"T_867ad_row3_col6\" class=\"data row3 col6\" >-0.000071</td>\n",
       "    </tr>\n",
       "  </tbody>\n",
       "</table>\n"
      ],
      "text/plain": [
       "<pandas.io.formats.style.Styler at 0x1886a052fa0>"
      ]
     },
     "metadata": {},
     "output_type": "display_data"
    }
   ],
   "source": [
    "analysis(I1, v1)"
   ]
  },
  {
   "cell_type": "code",
   "execution_count": 6,
   "metadata": {},
   "outputs": [
    {
     "name": "stdout",
     "output_type": "stream",
     "text": [
      "\n",
      "Mutual inductance has a mean value of 0.0017501078365531114 henry with a standard error of 9.091055470042366e-05\n",
      "\n"
     ]
    },
    {
     "data": {
      "text/html": [
       "<style type=\"text/css\">\n",
       "#T_a0044_ th {\n",
       "  text-align: center;\n",
       "}\n",
       "#T_a0044_ td {\n",
       "  text-align: center;\n",
       "}\n",
       "</style>\n",
       "<table id=\"T_a0044_\">\n",
       "  <thead>\n",
       "    <tr>\n",
       "      <th class=\"blank level0\" >&nbsp;</th>\n",
       "      <th class=\"col_heading level0 col0\" >frequency [Hz]</th>\n",
       "      <th class=\"col_heading level0 col1\" >current max [A]</th>\n",
       "      <th class=\"col_heading level0 col2\" >voltage max</th>\n",
       "      <th class=\"col_heading level0 col3\" >voltage induced [V]</th>\n",
       "      <th class=\"col_heading level0 col4\" >inductance th [H]</th>\n",
       "      <th class=\"col_heading level0 col5\" >inductance exp [H]</th>\n",
       "      <th class=\"col_heading level0 col6\" >inductance error [H]</th>\n",
       "    </tr>\n",
       "  </thead>\n",
       "  <tbody>\n",
       "    <tr>\n",
       "      <th id=\"T_a0044_level0_row0\" class=\"row_heading level0 row0\" >0</th>\n",
       "      <td id=\"T_a0044_row0_col0\" class=\"data row0 col0\" >10</td>\n",
       "      <td id=\"T_a0044_row0_col1\" class=\"data row0 col1\" >0.290849</td>\n",
       "      <td id=\"T_a0044_row0_col2\" class=\"data row0 col2\" >5.748000</td>\n",
       "      <td id=\"T_a0044_row0_col3\" class=\"data row0 col3\" >0.034000</td>\n",
       "      <td id=\"T_a0044_row0_col4\" class=\"data row0 col4\" >0.001692</td>\n",
       "      <td id=\"T_a0044_row0_col5\" class=\"data row0 col5\" >0.001861</td>\n",
       "      <td id=\"T_a0044_row0_col6\" class=\"data row0 col6\" >-0.000169</td>\n",
       "    </tr>\n",
       "    <tr>\n",
       "      <th id=\"T_a0044_level0_row1\" class=\"row_heading level0 row1\" >1</th>\n",
       "      <td id=\"T_a0044_row1_col0\" class=\"data row1 col0\" >20</td>\n",
       "      <td id=\"T_a0044_row1_col1\" class=\"data row1 col1\" >0.281387</td>\n",
       "      <td id=\"T_a0044_row1_col2\" class=\"data row1 col2\" >5.561000</td>\n",
       "      <td id=\"T_a0044_row1_col3\" class=\"data row1 col3\" >0.062000</td>\n",
       "      <td id=\"T_a0044_row1_col4\" class=\"data row1 col4\" >0.001692</td>\n",
       "      <td id=\"T_a0044_row1_col5\" class=\"data row1 col5\" >0.001753</td>\n",
       "      <td id=\"T_a0044_row1_col6\" class=\"data row1 col6\" >-0.000061</td>\n",
       "    </tr>\n",
       "    <tr>\n",
       "      <th id=\"T_a0044_level0_row2\" class=\"row_heading level0 row2\" >2</th>\n",
       "      <td id=\"T_a0044_row2_col0\" class=\"data row2 col0\" >30</td>\n",
       "      <td id=\"T_a0044_row2_col1\" class=\"data row2 col1\" >0.267168</td>\n",
       "      <td id=\"T_a0044_row2_col2\" class=\"data row2 col2\" >5.280000</td>\n",
       "      <td id=\"T_a0044_row2_col3\" class=\"data row2 col3\" >0.081000</td>\n",
       "      <td id=\"T_a0044_row2_col4\" class=\"data row2 col4\" >0.001692</td>\n",
       "      <td id=\"T_a0044_row2_col5\" class=\"data row2 col5\" >0.001608</td>\n",
       "      <td id=\"T_a0044_row2_col6\" class=\"data row2 col6\" >0.000084</td>\n",
       "    </tr>\n",
       "    <tr>\n",
       "      <th id=\"T_a0044_level0_row3\" class=\"row_heading level0 row3\" >3</th>\n",
       "      <td id=\"T_a0044_row3_col0\" class=\"data row3 col0\" >40</td>\n",
       "      <td id=\"T_a0044_row3_col1\" class=\"data row3 col1\" >0.250622</td>\n",
       "      <td id=\"T_a0044_row3_col2\" class=\"data row3 col2\" >4.953000</td>\n",
       "      <td id=\"T_a0044_row3_col3\" class=\"data row3 col3\" >0.112000</td>\n",
       "      <td id=\"T_a0044_row3_col4\" class=\"data row3 col4\" >0.001692</td>\n",
       "      <td id=\"T_a0044_row3_col5\" class=\"data row3 col5\" >0.001778</td>\n",
       "      <td id=\"T_a0044_row3_col6\" class=\"data row3 col6\" >-0.000086</td>\n",
       "    </tr>\n",
       "  </tbody>\n",
       "</table>\n"
      ],
      "text/plain": [
       "<pandas.io.formats.style.Styler at 0x1886a21ad00>"
      ]
     },
     "metadata": {},
     "output_type": "display_data"
    }
   ],
   "source": [
    "analysis(I2, v2)"
   ]
  }
 ],
 "metadata": {
  "interpreter": {
   "hash": "ca98eca091f665d4b073781a8092ef1e4b0b5ce5ebfcf0d3c7ac3a44a4e96cf6"
  },
  "kernelspec": {
   "display_name": "Python 3.9.6 64-bit",
   "language": "python",
   "name": "python3"
  },
  "language_info": {
   "codemirror_mode": {
    "name": "ipython",
    "version": 3
   },
   "file_extension": ".py",
   "mimetype": "text/x-python",
   "name": "python",
   "nbconvert_exporter": "python",
   "pygments_lexer": "ipython3",
   "version": "3.9.6"
  },
  "orig_nbformat": 4
 },
 "nbformat": 4,
 "nbformat_minor": 2
}
