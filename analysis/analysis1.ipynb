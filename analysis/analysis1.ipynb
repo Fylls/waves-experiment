{
 "cells": [
  {
   "cell_type": "markdown",
   "metadata": {},
   "source": [
    "# Setup"
   ]
  },
  {
   "cell_type": "code",
   "execution_count": 1,
   "metadata": {},
   "outputs": [
    {
     "name": "stdout",
     "output_type": "stream",
     "text": [
      "Setup Complete\n"
     ]
    }
   ],
   "source": [
    "from scipy.constants import *\n",
    "from math import *\n",
    "\n",
    "import numpy as np\n",
    "import pandas as pd\n",
    "import seaborn as sns\n",
    "\n",
    "print(\"Setup Complete\")\n",
    "\n",
    "def centered(df):\n",
    "    return df.style.set_table_styles([\n",
    "        {\"selector\": \"th\", \"props\": [(\"text-align\", \"center\")]},\n",
    "        {\"selector\": \"td\", \"props\": [(\"text-align\", \"center\")]}])"
   ]
  },
  {
   "cell_type": "markdown",
   "metadata": {},
   "source": [
    "# Apparatus"
   ]
  },
  {
   "cell_type": "code",
   "execution_count": 2,
   "metadata": {},
   "outputs": [],
   "source": [
    "# Radius of the first spire\n",
    "# Measured in meters [m]\n",
    "r1 = 0.105\n",
    "\n",
    "# Windings of the first spire\n",
    "n1 = 200\n",
    "\n",
    "# Radius of the second spire\n",
    "# Measured in meters [m]\n",
    "r2 = 0.015\n",
    "\n",
    "# Windings of the second spire\n",
    "n2 = 2000"
   ]
  },
  {
   "cell_type": "markdown",
   "metadata": {},
   "source": [
    "# Data"
   ]
  },
  {
   "cell_type": "code",
   "execution_count": 3,
   "metadata": {},
   "outputs": [],
   "source": [
    "# Frequency of the alternating  corrent in the first circuit\n",
    "# Measured in Hertz [Hz]\n",
    "f = np.array([ 10, 20, 30, 40 ])\n",
    "\n",
    "# Voltage in the first circuit\n",
    "# Measured in Volts [A]\n",
    "###################################\n",
    "# sinceramente non capisco un cazzo di sti dati, datemi qualche ora che li studio meglio\n",
    "\n",
    "I1 = np.array([ 2.874, 2.780, 2.664, 2.523 ]) * 0.0506\n",
    "I2 = np.array([ 5.748, 5.561, 5.280, 4.953 ]) * 0.0506\n",
    "\n",
    "# Induced Voltage in the first circuit (EMF)\n",
    "# Measured in Volts [V]\n",
    "v1 = np.array([ 0.024, 0.037, 0.041, 0.049 ])\n",
    "v2 = np.array([ 0.034, 0.062, 0.081, 0.112 ])"
   ]
  },
  {
   "cell_type": "markdown",
   "metadata": {},
   "source": [
    "# Analysis"
   ]
  },
  {
   "cell_type": "code",
   "execution_count": 4,
   "metadata": {},
   "outputs": [],
   "source": [
    "def analysis (i_max, v_ind):\n",
    "\n",
    "    # Theoretical mutual inductance\n",
    "    # Measured in Henrys [H]\n",
    "    M_th = ( mu_0 * pi * n1 * n2 * r2**2 ) / (2 * r1)\n",
    "\n",
    "    # Experimental mutual inductance\n",
    "    M_exp = v_ind / (2 * pi * f * i_max)\n",
    "\n",
    "    # Display mutual inductance\n",
    "    print(f\"Mutual inductance has a mean value of {np.mean(M_exp)} farad with a standard error of {np.std(M_exp)}\")\n",
    "\n",
    "    # Create dataframe\n",
    "    results = pd.DataFrame({\n",
    "        \"frequency [Hz]\": f,\n",
    "        \"max induced voltage [V]\": v_ind,\n",
    "        \"max current [A]\": i_max,\n",
    "        \"inductance th [H]\": M_th,\n",
    "        \"inductance exp [H]\": M_exp,\n",
    "        \"error [H]\" : M_th - M_exp\n",
    "    })\n",
    "\n",
    "    display(centered(results)) "
   ]
  },
  {
   "cell_type": "code",
   "execution_count": 5,
   "metadata": {},
   "outputs": [
    {
     "name": "stdout",
     "output_type": "stream",
     "text": [
      "Mutual inductance has a mean value of 0.0019651285472589903 farad with a standard error of 0.00043854922891295965\n"
     ]
    },
    {
     "data": {
      "text/html": [
       "<style type=\"text/css\">\n",
       "#T_d4c82_ th {\n",
       "  text-align: center;\n",
       "}\n",
       "#T_d4c82_ td {\n",
       "  text-align: center;\n",
       "}\n",
       "</style>\n",
       "<table id=\"T_d4c82_\">\n",
       "  <thead>\n",
       "    <tr>\n",
       "      <th class=\"blank level0\" >&nbsp;</th>\n",
       "      <th class=\"col_heading level0 col0\" >frequency [Hz]</th>\n",
       "      <th class=\"col_heading level0 col1\" >max induced voltage [V]</th>\n",
       "      <th class=\"col_heading level0 col2\" >max current [A]</th>\n",
       "      <th class=\"col_heading level0 col3\" >inductance th [H]</th>\n",
       "      <th class=\"col_heading level0 col4\" >inductance exp [H]</th>\n",
       "      <th class=\"col_heading level0 col5\" >error [H]</th>\n",
       "    </tr>\n",
       "  </thead>\n",
       "  <tbody>\n",
       "    <tr>\n",
       "      <th id=\"T_d4c82_level0_row0\" class=\"row_heading level0 row0\" >0</th>\n",
       "      <td id=\"T_d4c82_row0_col0\" class=\"data row0 col0\" >10</td>\n",
       "      <td id=\"T_d4c82_row0_col1\" class=\"data row0 col1\" >0.024000</td>\n",
       "      <td id=\"T_d4c82_row0_col2\" class=\"data row0 col2\" >0.145424</td>\n",
       "      <td id=\"T_d4c82_row0_col3\" class=\"data row0 col3\" >0.001692</td>\n",
       "      <td id=\"T_d4c82_row0_col4\" class=\"data row0 col4\" >0.002627</td>\n",
       "      <td id=\"T_d4c82_row0_col5\" class=\"data row0 col5\" >-0.000935</td>\n",
       "    </tr>\n",
       "    <tr>\n",
       "      <th id=\"T_d4c82_level0_row1\" class=\"row_heading level0 row1\" >1</th>\n",
       "      <td id=\"T_d4c82_row1_col0\" class=\"data row1 col0\" >20</td>\n",
       "      <td id=\"T_d4c82_row1_col1\" class=\"data row1 col1\" >0.037000</td>\n",
       "      <td id=\"T_d4c82_row1_col2\" class=\"data row1 col2\" >0.140668</td>\n",
       "      <td id=\"T_d4c82_row1_col3\" class=\"data row1 col3\" >0.001692</td>\n",
       "      <td id=\"T_d4c82_row1_col4\" class=\"data row1 col4\" >0.002093</td>\n",
       "      <td id=\"T_d4c82_row1_col5\" class=\"data row1 col5\" >-0.000401</td>\n",
       "    </tr>\n",
       "    <tr>\n",
       "      <th id=\"T_d4c82_level0_row2\" class=\"row_heading level0 row2\" >2</th>\n",
       "      <td id=\"T_d4c82_row2_col0\" class=\"data row2 col0\" >30</td>\n",
       "      <td id=\"T_d4c82_row2_col1\" class=\"data row2 col1\" >0.041000</td>\n",
       "      <td id=\"T_d4c82_row2_col2\" class=\"data row2 col2\" >0.134798</td>\n",
       "      <td id=\"T_d4c82_row2_col3\" class=\"data row2 col3\" >0.001692</td>\n",
       "      <td id=\"T_d4c82_row2_col4\" class=\"data row2 col4\" >0.001614</td>\n",
       "      <td id=\"T_d4c82_row2_col5\" class=\"data row2 col5\" >0.000078</td>\n",
       "    </tr>\n",
       "    <tr>\n",
       "      <th id=\"T_d4c82_level0_row3\" class=\"row_heading level0 row3\" >3</th>\n",
       "      <td id=\"T_d4c82_row3_col0\" class=\"data row3 col0\" >40</td>\n",
       "      <td id=\"T_d4c82_row3_col1\" class=\"data row3 col1\" >0.049000</td>\n",
       "      <td id=\"T_d4c82_row3_col2\" class=\"data row3 col2\" >0.127664</td>\n",
       "      <td id=\"T_d4c82_row3_col3\" class=\"data row3 col3\" >0.001692</td>\n",
       "      <td id=\"T_d4c82_row3_col4\" class=\"data row3 col4\" >0.001527</td>\n",
       "      <td id=\"T_d4c82_row3_col5\" class=\"data row3 col5\" >0.000165</td>\n",
       "    </tr>\n",
       "  </tbody>\n",
       "</table>\n"
      ],
      "text/plain": [
       "<pandas.io.formats.style.Styler at 0x202f7a06400>"
      ]
     },
     "metadata": {},
     "output_type": "display_data"
    }
   ],
   "source": [
    "analysis(I1, v1)"
   ]
  },
  {
   "cell_type": "code",
   "execution_count": 6,
   "metadata": {},
   "outputs": [
    {
     "name": "stdout",
     "output_type": "stream",
     "text": [
      "Mutual inductance has a mean value of 0.0017501078365531114 farad with a standard error of 9.091055470042366e-05\n"
     ]
    },
    {
     "data": {
      "text/html": [
       "<style type=\"text/css\">\n",
       "#T_153eb_ th {\n",
       "  text-align: center;\n",
       "}\n",
       "#T_153eb_ td {\n",
       "  text-align: center;\n",
       "}\n",
       "</style>\n",
       "<table id=\"T_153eb_\">\n",
       "  <thead>\n",
       "    <tr>\n",
       "      <th class=\"blank level0\" >&nbsp;</th>\n",
       "      <th class=\"col_heading level0 col0\" >frequency [Hz]</th>\n",
       "      <th class=\"col_heading level0 col1\" >max induced voltage [V]</th>\n",
       "      <th class=\"col_heading level0 col2\" >max current [A]</th>\n",
       "      <th class=\"col_heading level0 col3\" >inductance th [H]</th>\n",
       "      <th class=\"col_heading level0 col4\" >inductance exp [H]</th>\n",
       "      <th class=\"col_heading level0 col5\" >error [H]</th>\n",
       "    </tr>\n",
       "  </thead>\n",
       "  <tbody>\n",
       "    <tr>\n",
       "      <th id=\"T_153eb_level0_row0\" class=\"row_heading level0 row0\" >0</th>\n",
       "      <td id=\"T_153eb_row0_col0\" class=\"data row0 col0\" >10</td>\n",
       "      <td id=\"T_153eb_row0_col1\" class=\"data row0 col1\" >0.034000</td>\n",
       "      <td id=\"T_153eb_row0_col2\" class=\"data row0 col2\" >0.290849</td>\n",
       "      <td id=\"T_153eb_row0_col3\" class=\"data row0 col3\" >0.001692</td>\n",
       "      <td id=\"T_153eb_row0_col4\" class=\"data row0 col4\" >0.001861</td>\n",
       "      <td id=\"T_153eb_row0_col5\" class=\"data row0 col5\" >-0.000169</td>\n",
       "    </tr>\n",
       "    <tr>\n",
       "      <th id=\"T_153eb_level0_row1\" class=\"row_heading level0 row1\" >1</th>\n",
       "      <td id=\"T_153eb_row1_col0\" class=\"data row1 col0\" >20</td>\n",
       "      <td id=\"T_153eb_row1_col1\" class=\"data row1 col1\" >0.062000</td>\n",
       "      <td id=\"T_153eb_row1_col2\" class=\"data row1 col2\" >0.281387</td>\n",
       "      <td id=\"T_153eb_row1_col3\" class=\"data row1 col3\" >0.001692</td>\n",
       "      <td id=\"T_153eb_row1_col4\" class=\"data row1 col4\" >0.001753</td>\n",
       "      <td id=\"T_153eb_row1_col5\" class=\"data row1 col5\" >-0.000061</td>\n",
       "    </tr>\n",
       "    <tr>\n",
       "      <th id=\"T_153eb_level0_row2\" class=\"row_heading level0 row2\" >2</th>\n",
       "      <td id=\"T_153eb_row2_col0\" class=\"data row2 col0\" >30</td>\n",
       "      <td id=\"T_153eb_row2_col1\" class=\"data row2 col1\" >0.081000</td>\n",
       "      <td id=\"T_153eb_row2_col2\" class=\"data row2 col2\" >0.267168</td>\n",
       "      <td id=\"T_153eb_row2_col3\" class=\"data row2 col3\" >0.001692</td>\n",
       "      <td id=\"T_153eb_row2_col4\" class=\"data row2 col4\" >0.001608</td>\n",
       "      <td id=\"T_153eb_row2_col5\" class=\"data row2 col5\" >0.000084</td>\n",
       "    </tr>\n",
       "    <tr>\n",
       "      <th id=\"T_153eb_level0_row3\" class=\"row_heading level0 row3\" >3</th>\n",
       "      <td id=\"T_153eb_row3_col0\" class=\"data row3 col0\" >40</td>\n",
       "      <td id=\"T_153eb_row3_col1\" class=\"data row3 col1\" >0.112000</td>\n",
       "      <td id=\"T_153eb_row3_col2\" class=\"data row3 col2\" >0.250622</td>\n",
       "      <td id=\"T_153eb_row3_col3\" class=\"data row3 col3\" >0.001692</td>\n",
       "      <td id=\"T_153eb_row3_col4\" class=\"data row3 col4\" >0.001778</td>\n",
       "      <td id=\"T_153eb_row3_col5\" class=\"data row3 col5\" >-0.000086</td>\n",
       "    </tr>\n",
       "  </tbody>\n",
       "</table>\n"
      ],
      "text/plain": [
       "<pandas.io.formats.style.Styler at 0x202f7af3340>"
      ]
     },
     "metadata": {},
     "output_type": "display_data"
    }
   ],
   "source": [
    "analysis(I2, v2)"
   ]
  }
 ],
 "metadata": {
  "interpreter": {
   "hash": "ca98eca091f665d4b073781a8092ef1e4b0b5ce5ebfcf0d3c7ac3a44a4e96cf6"
  },
  "kernelspec": {
   "display_name": "Python 3.9.6 64-bit",
   "language": "python",
   "name": "python3"
  },
  "language_info": {
   "codemirror_mode": {
    "name": "ipython",
    "version": 3
   },
   "file_extension": ".py",
   "mimetype": "text/x-python",
   "name": "python",
   "nbconvert_exporter": "python",
   "pygments_lexer": "ipython3",
   "version": "3.9.6"
  },
  "orig_nbformat": 4
 },
 "nbformat": 4,
 "nbformat_minor": 2
}
